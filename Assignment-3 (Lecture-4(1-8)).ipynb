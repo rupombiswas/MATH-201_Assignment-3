{
 "cells": [
  {
   "cell_type": "markdown",
   "metadata": {},
   "source": [
    "                                        Name: Rupom Biswas\n",
    "                                        ID  : 172014043\n",
    "                                        section: 02\n"
   ]
  },
  {
   "cell_type": "markdown",
   "metadata": {},
   "source": [
    "# Python_Lecture- 4(PYTHON_DICTIONARIES_TUPLES(1))"
   ]
  },
  {
   "cell_type": "markdown",
   "metadata": {},
   "source": [
    "Question 1.Write a program that repeatedly asks the user to enter product names and prices. Store all of these in a dictionary whose keys are the product names and whose values are the prices. When the user is done entering products and prices, allow them to repeatedly enter a product name and print the corresponding price or a message if the product is not in the dictionary."
   ]
  },
  {
   "cell_type": "code",
   "execution_count": 10,
   "metadata": {},
   "outputs": [
    {
     "name": "stdout",
     "output_type": "stream",
     "text": [
      "Enter Product Name or press 'e' to exit\n",
      "banana\n",
      "Enter product Price\n",
      "100\n",
      "Enter Product Name or press 'e' to exit\n",
      "apple\n",
      "Enter product Price\n",
      "200\n",
      "Enter Product Name or press 'e' to exit\n",
      "orange\n",
      "Enter product Price\n",
      "500\n",
      "Enter Product Name or press 'e' to exit\n",
      "e\n",
      "Enter the product name you want to find or press 'e' to exit\n",
      "apple\n",
      "The price of apple is 200\n",
      "Enter the product name you want to find or press 'e' to exit\n",
      "orange\n",
      "The price of orange is 500\n",
      "Enter the product name you want to find or press 'e' to exit\n",
      "mango\n",
      "mango is not a product you entered\n",
      "\n",
      "Enter the product name you want to find or press 'e' to exit\n",
      "e\n"
     ]
    }
   ],
   "source": [
    "dictonary = {\n",
    "        \n",
    "    }\n",
    "while(True):\n",
    "    \n",
    "    x = input(\"Enter Product Name or press 'e' to exit\\n\")\n",
    "    if(x == \"e\"):\n",
    "\n",
    "        break\n",
    "    else:\n",
    "        y = int(input(\"Enter product Price\\n\"))\n",
    "        dictonary[x] = y\n",
    "\n",
    "while(True):\n",
    "    z = input(\"Enter the product name you want to find or press 'e' to exit\\n\")\n",
    "    if(z == \"e\"):\n",
    "    \n",
    "        break\n",
    "    else:\n",
    "        if z in dictonary:\n",
    "            print(\"The price of \"+z+\" is \" +str(dictonary[z]))\n",
    "        else:\n",
    "            print(z+\" is not a product you entered\\n\")"
   ]
  },
  {
   "cell_type": "markdown",
   "metadata": {},
   "source": [
    "Question 2.Using the dictionary created in the previous problem, allow the user to enter a dollar amount and print out all the products whose price is less than that amount."
   ]
  },
  {
   "cell_type": "code",
   "execution_count": 8,
   "metadata": {},
   "outputs": [
    {
     "name": "stdout",
     "output_type": "stream",
     "text": [
      "Enter Product Name or press 'e' to exit\n",
      "banana\n",
      "Enter product Price\n",
      "100\n",
      "Enter Product Name or press 'e' to exit\n",
      "orange\n",
      "Enter product Price\n",
      "200\n",
      "Enter Product Name or press 'e' to exit\n",
      "mango\n",
      "Enter product Price\n",
      "300\n",
      "Enter Product Name or press 'e' to exit\n",
      "apple\n",
      "Enter product Price\n",
      "500\n",
      "Enter Product Name or press 'e' to exit\n",
      "e\n",
      "Enter the price of the product  you want to find or press 'e' to quit\n",
      "300\n",
      "\n",
      "The price of banana is 100$ (Dollars)\n",
      "\n",
      "\n",
      "The price of orange is 200$ (Dollars)\n",
      "\n",
      "Enter the price of the product  you want to find or press 'e' to quit\n",
      "e\n"
     ]
    }
   ],
   "source": [
    "dictonary = {\n",
    "        \n",
    "    }\n",
    "while(True):\n",
    "    \n",
    "    x = input(\"Enter Product Name or press 'e' to exit\\n\")\n",
    "    if(x == \"e\"):\n",
    "        \n",
    "        break\n",
    "    else:\n",
    "        y = int(input(\"Enter product Price\\n\"))\n",
    "        dictonary[x] = y\n",
    "\n",
    "\n",
    "while(True):\n",
    "    z = input(\"Enter the price of the product  you want to find or press 'e' to exit\\n\")\n",
    "    if(z == \"e\"):\n",
    "\n",
    "        break\n",
    "    else:\n",
    "        for i in dictonary:\n",
    "            if(dictonary[i]<int(z)):\n",
    "                print(\"\\nThe price of \"+i+\" is \"+ str(dictonary[i])+\"$ (Dollars)\\n\")"
   ]
  },
  {
   "cell_type": "markdown",
   "metadata": {},
   "source": [
    "Question 3.Write a program that uses a dictionary that contains ten user names and passwords. The program should ask the user to enter their username and password. If the username is not in the dictionary, the program should indicate that the person is not a valid user of the system. If the username is in the dictionary, but the user does not enter the right password, the program should say that the password is invalid. If the password is correct, then the program should tell the user that they are now logged in to the system."
   ]
  },
  {
   "cell_type": "code",
   "execution_count": 5,
   "metadata": {},
   "outputs": [
    {
     "name": "stdout",
     "output_type": "stream",
     "text": [
      "Enter User Name: rupom\n",
      "Enter Password: 122112\n",
      "Login Successfully !!!\n"
     ]
    }
   ],
   "source": [
    "dictonary={'rupom':122112, 'biswas': 13156910, 'ajit': 19113114201, \n",
    "     'kumar': 149198114, 'sajib': 818941525, 'Mahmud': 182129, 'utshaw': 19239620, \n",
    "     'bipul': 1821139, 'saha': 1921162015, 'bishal': 201514149}\n",
    "\n",
    "user_name=input('Enter User Name: ')\n",
    "password=input('Enter Password: ')\n",
    "password=int(password)\n",
    "               # string comparison isn't working.   have to type cast in int\n",
    "if user_name in dictonary:\n",
    "    if int(dictonary[user_name])==password:\n",
    "        print('Login Successfully !!!')\n",
    "    else:\n",
    "        print('Invalid Password...')\n",
    "else:\n",
    "    print('You are Not a valid User...')"
   ]
  },
  {
   "cell_type": "markdown",
   "metadata": {},
   "source": [
    "Question 4.Below are the notes used in music: C C# D D# E F F# G G# A A# B The notes for the C major chord are C, E, G. A mathematical way to get this is that E is 4 steps past C and G is 7 steps past C. This works for any base. For example, the notes for D major are D, F#, A. We can represent the major chord steps as a list with two elements: [4,7] . The corresponding lists for some other chord types are shown below:\n",
    "\n",
    "Minor [3,7]\n",
    "\n",
    "Augmented fifth [4,8]\n",
    "\n",
    "Minor fifth [4,6]\n",
    "\n",
    "Major sixth [4,7,9]\n",
    "\n",
    "Minor sixth [3,7,9]\n",
    "\n",
    "Dominant seventh [4,7,10]\n",
    "\n",
    "Minor seventh [3,7,10]\n",
    "\n",
    "Major seventh [4,7,11]\n",
    "\n",
    "Diminished seventh [3,6,10]\n",
    "\n",
    "Write a program that asks the user for the key and the chord type and prints out the notes of the chord. Use a dictionary whose keys are the (musical) keys and whose values are the lists of steps."
   ]
  },
  {
   "cell_type": "code",
   "execution_count": 5,
   "metadata": {},
   "outputs": [
    {
     "name": "stdout",
     "output_type": "stream",
     "text": [
      "Cord types are : Minor, Augmented fifth, Minor fifth, Major sixth, Minor sixth\n",
      " \t\tDominant seventh, Minor seventh, Major seventh, Diminished seventh\n",
      "Enter Key: C\n",
      "Enter Cord Type: Minor\n",
      "C D# G\n"
     ]
    }
   ],
   "source": [
    "\n",
    "my_note=['C', 'C#', 'D', 'D#', 'E', 'F', 'F#', 'G', 'G#', 'A', 'A#', 'B']\n",
    "\n",
    "print('Cord types are : Minor, Augmented fifth, Minor fifth, Major sixth, Minor sixth\\n \\t\\tDominant seventh, Minor seventh, Major seventh, Diminished seventh')\n",
    "key=input('Enter Key: ')\n",
    "cord_type=input('Enter Cord Type: ')\n",
    "\n",
    "i=0\n",
    "while i<12:\n",
    "    if my_note[i]==key:\n",
    "        break\n",
    "    i=i+1\n",
    "\n",
    "if cord_type=='Minor':\n",
    "    print(my_note[i],my_note[i+3],my_note[(i+7)%11])\n",
    "elif cord_type=='Augmented fifth':\n",
    "    print(my_note[i],my_note[i+4],my_note[(i+8)%11])\n",
    "elif cord_type=='Minor fifth':\n",
    "    print(my_note[i],my_note[i+4],my_note[(i+6)%11])\n",
    "elif cord_type=='Major sixth':\n",
    "    print(my_note[i],my_note[i+4],my_note[(i+7)%11], my_note[(i+9)%11])\n",
    "elif cord_type=='Dominant seventh':\n",
    "    print(my_note[i],my_note[i+4],my_note[(i+7)%11], my_note[(i+10)%11])\n",
    "elif cord_type=='Minor seventh':\n",
    "    print(my_note[i],my_note[i+3],my_note[(i+7)%11], my_note[(i+10)%11])\n",
    "elif cord_type=='Major seventh':\n",
    "    print(my_note[i],my_note[i+4],my_note[(i+7)%11],my_note[(i+11)%11])\n",
    "elif cord_type=='Diminished seventh':\n",
    "    print(my_note[i],my_note[i+3],my_note[(i+6)%11], my_note[(i+10)%11])\n",
    "elif cord_type=='Minor sixth':\n",
    "    print(my_note[i],my_note[i+3],my_note[(i+7)%11], my_note[(i+9)%11])"
   ]
  },
  {
   "cell_type": "markdown",
   "metadata": {},
   "source": [
    "Question 5.Suppose you are given the following list of strings:\n",
    "L = [ ' aabaabac ' , ' cabaabca ' , ' aaabbcba ' , ' aabacbab ' , ' acababba ' ]\n",
    "\n",
    "Patterns like this show up in many places, including DNA sequencing. The user has a string of their own with only some letters filled in and the rest as asterisks. An example is aa** . The user would like to know which of the strings in the list fit with their pattern. In the example just given, the matching strings are the first and fourth. One way to solve this problem is to create a dictionary whose keys are the indices in the user’s string of the non-asterisk characters and whose values are those characters. Write a program implementing this approach (or some other approach) to find the strings that match a user-entered string."
   ]
  },
  {
   "cell_type": "code",
   "execution_count": null,
   "metadata": {},
   "outputs": [
    {
     "name": "stdout",
     "output_type": "stream",
     "text": [
      "Enter string with one * :cabaabca\n"
     ]
    }
   ],
   "source": [
    "L = [ 'aabaabac' , 'cabaabca' , 'aaabbcba' , 'aabacbab' , 'acababba' ] \n",
    "\n",
    "s=input(\"Enter string with one * :\")\n",
    "\n",
    "i=0\n",
    "check=0\n",
    "while i<5:\n",
    "    check=0\n",
    "    m=0\n",
    "    if s[m]==L[i][m]:\n",
    "        check=1\n",
    "        m=m+1\n",
    "        while m<len(s)-1 and check==1:\n",
    "            if s[m]!=L[i][m]:\n",
    "                check=0\n",
    "        m=m+1\n",
    "    if check==1:\n",
    "        print(L[i])\n",
    "    i=i+1\n",
    "\n",
    "if check==0:\n",
    "    print('No Match')"
   ]
  },
  {
   "cell_type": "markdown",
   "metadata": {},
   "source": [
    "Question 6.Dictionaries provide a convenient way to store structured data. Here is an example dictionary:\n",
    "d=[{ ' name ' : ' Todd ' , ' phone ' : ' 555-1414 ' , ' email ' : ' todd@mail.net ' }, { ' name ' : ' Helga ' , ' phone ' : ' 555-1618 ' , ' email ' : ' helga@mail.net ' }, { ' name ' : ' Princess ' , ' phone ' : ' 555-3141 ' , ' email ' : '' }, { ' name ' : ' LJ ' , ' phone ' : ' 555-2718 ' , ' email ' : ' lj@mail.net ' }]\n",
    "\n",
    "Write a program that reads through any dictionary like this and prints the following:\n",
    "\n",
    "(a) All the users whose phone number ends in an 8\n",
    "\n",
    "(b) All the users that don’t have an email address listed"
   ]
  },
  {
   "cell_type": "code",
   "execution_count": 1,
   "metadata": {},
   "outputs": [
    {
     "name": "stdout",
     "output_type": "stream",
     "text": [
      "Helga\n",
      "Princess\n"
     ]
    }
   ],
   "source": [
    "d = [{'name' : 'Todd', 'phone' : '555-1414', 'email' : 'todd@gmail.com'},{'name' : 'Helga', 'phone' : '555-1618', 'email' : 'helga@gmail.com'},{'name' : 'Princess', 'phone' : '555-2716', 'email' : ' '}]\n",
    "for x in d:\n",
    "    for y in x:\n",
    "        str = x.get('phone')\n",
    "        if str[len(str)-1] == '8':\n",
    "            print(x.get('name'))\n",
    "            break\n",
    "for x in d:\n",
    "    for y in x:\n",
    "        str = x.get('email')\n",
    "        if str[len(str)-1] == ' ':\n",
    "            print(x.get('name'))\n",
    "            break\n"
   ]
  },
  {
   "cell_type": "code",
   "execution_count": 3,
   "metadata": {},
   "outputs": [
    {
     "name": "stdout",
     "output_type": "stream",
     "text": [
      "The Name of the Users that don’t have an email address listed\n",
      "\n",
      "User:Princess\n"
     ]
    }
   ],
   "source": [
    "d = [{ 'name' : 'Todd' , 'phone' : '555-1414' , 'email' : 'todd@mail.net' }, \n",
    "     { 'name' : 'Helga' , 'phone' : '555-1618' , 'email' : 'helga@mail.net' }, \n",
    "     { 'name' : 'Princess' , 'phone' : '555-3141' , 'email' : ' ' }, \n",
    "     { 'name' : 'LJ' , 'phone' : '555-2718' , 'email' : 'lj@mail.net' }]\n",
    "\n",
    "print (\"The Name of the Users that don’t have an email address listed\\n\")\n",
    "for key in d: \n",
    "    for value in key:\n",
    "        str = key.get('email')  \n",
    "        if str[len(str)-1] == ' ': \n",
    "            print (\"User:\"+key.get('name')) \n",
    "            break "
   ]
  },
  {
   "cell_type": "markdown",
   "metadata": {},
   "source": [
    "Question 7.The keys in a dictionary are guaranteed to be unique, but the values are not. Write a function called count_values that takes a single dictionary as an argument and returns the number of dis- tinct values it contains. Given the input {’red’:1, ’green’:1, ’blue’:2} , for example, it would return 2."
   ]
  },
  {
   "cell_type": "code",
   "execution_count": 2,
   "metadata": {},
   "outputs": [
    {
     "name": "stdout",
     "output_type": "stream",
     "text": [
      "2\n"
     ]
    }
   ],
   "source": [
    "d = {'red' : '1', 'blue' : '1', 'green' : '2'}\n",
    "\n",
    "def count_values(**d):\n",
    "    myList = []\n",
    "    for x in d:\n",
    "        myList.append(d.get(x))\n",
    "    myList.sort()\n",
    "    y = 1\n",
    "    x = 0\n",
    "    while x < len(myList)-1:\n",
    "        if myList[x+1] != myList[x]:\n",
    "            y+=1\n",
    "        x+=1\n",
    "    print(y)\n",
    "\n",
    "count_values(**d)\n"
   ]
  },
  {
   "cell_type": "markdown",
   "metadata": {},
   "source": [
    "Question 8.Using the card dictionary from earlier in this chapter, create a simple card game that deals two players three cards each. The player with the highest card wins. If there is a tie, then compare the second highest card and, if necessary, the third highest. If all three cards have the same value, then the game is a draw."
   ]
  },
  {
   "cell_type": "code",
   "execution_count": 4,
   "metadata": {},
   "outputs": [
    {
     "name": "stdout",
     "output_type": "stream",
     "text": [
      "Player One:\n",
      "{' value ': 4, ' suit ': ' clubs '}\n",
      "{' value ': 12, ' suit ': ' spades '}\n",
      "{' value ': 14, ' suit ': ' clubs '}\n",
      "[4, 12, 14]\n",
      "\n",
      "Player Two:\n",
      "{' value ': 2, ' suit ': ' diamonds '}\n",
      "{' value ': 6, ' suit ': ' hearts '}\n",
      "{' value ': 4, ' suit ': ' hearts '}\n",
      "[2, 6, 4]\n",
      "\n",
      "Highest Value of Player One  14\n",
      "\n",
      "Higest Value of Player Two:  6\n",
      "\n",
      "Player One won\n",
      "\n"
     ]
    }
   ],
   "source": [
    "import random\n",
    "import operator\n",
    "deck = [{ ' value ' :i, ' suit ' :c}\n",
    "for c in [ ' spades ' , ' clubs ' , ' hearts ' , ' diamonds ' ]\n",
    "for i in range(2,15)]\n",
    "deck1 = {}\n",
    "deck2 = {}\n",
    "arr1 = [None]*3\n",
    "arr2 = [None]*3\n",
    "\n",
    "random.shuffle(deck)\n",
    "#for player one\n",
    "print(\"Player One:\")\n",
    "for i in range(0,3):\n",
    "    deck1 = deck[i]\n",
    "    print(deck[i])\n",
    "    x = max(deck1)\n",
    "    arr1[i] = deck1[x]\n",
    "\n",
    "print(arr1)    \n",
    "print(\"\\nPlayer Two:\")\n",
    "#for player two\n",
    "\n",
    "random.shuffle(deck)\n",
    "for i in range(0,3):\n",
    "    deck2 = deck[i]\n",
    "    print(deck[i])\n",
    "    y = max(deck2)\n",
    "    arr2[i] = deck2[y]\n",
    "    \n",
    "print(arr2)\n",
    "\n",
    "firstMax = max(arr1)\n",
    "seccondMax = max(arr2)\n",
    "print(\"\\nHighest Value of Player One \",firstMax)\n",
    "print(\"\\nHigest Value of Player Two: \",seccondMax)\n",
    "if(firstMax==seccondMax):\n",
    "    print(\"\\nGame Tie\\n\")\n",
    "elif(firstMax>seccondMax):\n",
    "    print(\"\\nPlayer One won\\n\")\n",
    "elif(seccondMax>firstMax):\n",
    "    print(\"\\nPlayer Two Won\\n\")"
   ]
  }
 ],
 "metadata": {
  "kernelspec": {
   "display_name": "Python 3",
   "language": "python",
   "name": "python3"
  },
  "language_info": {
   "codemirror_mode": {
    "name": "ipython",
    "version": 3
   },
   "file_extension": ".py",
   "mimetype": "text/x-python",
   "name": "python",
   "nbconvert_exporter": "python",
   "pygments_lexer": "ipython3",
   "version": "3.7.1"
  }
 },
 "nbformat": 4,
 "nbformat_minor": 2
}
