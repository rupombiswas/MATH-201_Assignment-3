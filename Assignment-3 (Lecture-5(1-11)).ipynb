{
 "cells": [
  {
   "cell_type": "markdown",
   "metadata": {},
   "source": [
    "                                        Name: Rupom Biswas\n",
    "                                        ID  : 172014043\n",
    "                                        section: 02\n"
   ]
  },
  {
   "cell_type": "markdown",
   "metadata": {},
   "source": [
    "# Python_Lecture- 5(PYTHON_FOR_LOOP_IF_STRUCTURE_WHILE_STRUCTURE)."
   ]
  },
  {
   "cell_type": "markdown",
   "metadata": {},
   "source": [
    "Question 1.Write a program that uses a while loop (not a for loop) to read through a string and print the characters of the string one-by-one on separate lines."
   ]
  },
  {
   "cell_type": "code",
   "execution_count": 1,
   "metadata": {},
   "outputs": [
    {
     "name": "stdout",
     "output_type": "stream",
     "text": [
      "Enter a String my name is rupom biswas\n",
      "m\n",
      "y\n",
      " \n",
      "n\n",
      "a\n",
      "m\n",
      "e\n",
      " \n",
      "i\n",
      "s\n",
      " \n",
      "r\n",
      "u\n",
      "p\n",
      "o\n",
      "m\n",
      " \n",
      "b\n",
      "i\n",
      "s\n",
      "w\n",
      "a\n",
      "s\n"
     ]
    }
   ],
   "source": [
    "string=input(\"Enter a String \")\n",
    "i=0\n",
    "while i<len(string):\n",
    "    print(string[i])\n",
    "    i=i+1"
   ]
  },
  {
   "cell_type": "markdown",
   "metadata": {},
   "source": [
    "Question 2.Modify the program above to print out every second character of the string."
   ]
  },
  {
   "cell_type": "code",
   "execution_count": 6,
   "metadata": {},
   "outputs": [
    {
     "name": "stdout",
     "output_type": "stream",
     "text": [
      "y\n",
      "a\n",
      "s\n",
      "u\n",
      "i\n"
     ]
    }
   ],
   "source": [
    "i = 0\n",
    "string = ['my', 'name','is','rupom','biswas']\n",
    "for i in string:\n",
    "    if len(i) > 1:\n",
    "        print (i[1])"
   ]
  },
  {
   "cell_type": "markdown",
   "metadata": {},
   "source": [
    "Question 3.Write a program that asks the user to enter a password. If the user enters the right password, the program should tell them they are logged in to the system. Otherwise, the program should ask them to reenter the password. The user should only get five tries to enter the password, after which point the program should tell them that they are kicked off of the system."
   ]
  },
  {
   "cell_type": "code",
   "execution_count": 18,
   "metadata": {},
   "outputs": [
    {
     "name": "stdout",
     "output_type": "stream",
     "text": [
      "Enter a password: 1234\n",
      "You have 4 tries left\n",
      "Re-enter your password: rupom\n",
      "You have 3 tries left\n",
      "Re-enter your password: biswas\n",
      "You have 2 tries left\n",
      "Re-enter your password: rupom1234\n",
      "You are logged in\n"
     ]
    }
   ],
   "source": [
    "password = \"rupom1234\"\n",
    "for x in range(5):\n",
    "    if x == 0:\n",
    "        str = input(\"Enter a password: \")\n",
    "    else:\n",
    "        str = input(\"Re-enter your password: \")\n",
    "    if str == password:\n",
    "        print(\"You are logged in\")\n",
    "        break\n",
    "    else:\n",
    "        if 4 - x >= 0:\n",
    "            print(\"You have {} tries left\".format(4-x))\n",
    "if x == 4:\n",
    "    print(\"You have been kicked out of the system\")\n"
   ]
  },
  {
   "cell_type": "markdown",
   "metadata": {},
   "source": [
    "Question 4.Recall that, given a string s , s.index( ' x ' ) returns the index of the first x in s and an error if there is no x.\n",
    "\n",
    "(a) Write a program that asks the user for a string and a letter. Using a while loop, the program should print the index of the first occurrence of that letter and a message if the string does not contain the letter.\n",
    "\n",
    "(b) Write the above program using a for/break loop instead of a while loop."
   ]
  },
  {
   "cell_type": "code",
   "execution_count": 3,
   "metadata": {},
   "outputs": [
    {
     "name": "stdout",
     "output_type": "stream",
     "text": [
      "Enter a String my name is rupom biswas\n",
      "Enter a Letter o\n",
      "First occurance of o is in the position 15\n"
     ]
    }
   ],
   "source": [
    "string=input('Enter a String ')\n",
    "letter=input('Enter a Letter ')\n",
    "i=0\n",
    "j=0 \n",
    "\n",
    "while i<len(string) and j!=1:\n",
    "    if string[i]==letter:\n",
    "        j=1\n",
    "        index=i\n",
    "    i=i+1\n",
    "\n",
    "if j==1:\n",
    "    print('First occurance of',letter,'is in the position',index+1)\n",
    "else:\n",
    "    print('No match for',letter)"
   ]
  },
  {
   "cell_type": "code",
   "execution_count": 4,
   "metadata": {},
   "outputs": [
    {
     "name": "stdout",
     "output_type": "stream",
     "text": [
      "Enter a String my name is rupom\n",
      "Enter a Letter i\n",
      "First occurance of i is in the position 9\n"
     ]
    }
   ],
   "source": [
    "string=input('Enter a String ')\n",
    "letter=input('Enter a Letter ')\n",
    "j=0 \n",
    "i=1\n",
    "\n",
    "for char in string:\n",
    "    if char==letter:\n",
    "        j=1\n",
    "        break\n",
    "    i=i+1\n",
    "\n",
    "if j==1:\n",
    "    print('First occurance of',letter,'is in the position',i)\n",
    "else:\n",
    "    print('No match for',letter)"
   ]
  },
  {
   "cell_type": "markdown",
   "metadata": {},
   "source": [
    "Question 5.The GCD (greatest common divisor) of two numbers is the largest number that both are di- visible by. For instance, gcd (18, 42) is 6 because the largest number that both 18 and 42 are divisible by is 6. Write a program that asks the user for two numbers and computes their gcd. Shown below is a way to compute the GCD, called Euclid’s Algorithm.\n",
    "\n",
    "• First compute the remainder of dividing the larger number by the smaller number\n",
    "\n",
    "• Next, replace the larger number with the smaller number and the smaller number with the remainder.\n",
    "\n",
    "• Repeat this process until the smaller number is 0. The GCD is the last value of the larger number."
   ]
  },
  {
   "cell_type": "code",
   "execution_count": 3,
   "metadata": {},
   "outputs": [
    {
     "name": "stdout",
     "output_type": "stream",
     "text": [
      "Enter a number 26\n",
      "Enter a number 13\n",
      "the GED of 26 and 13 is 13\n"
     ]
    }
   ],
   "source": [
    "number1=input('Enter a number ')\n",
    "number1=int(number1)\n",
    "number2=input('Enter a number ')\n",
    "number2=int(number2)\n",
    "\n",
    "x = 1\n",
    "gcd = 0\n",
    "\n",
    "while x <= number1 and x <= number2:\n",
    "    if number1 % x == 0 and number2 % x == 0:\n",
    "        gcd = x\n",
    "    x+=1\n",
    "    \n",
    "print('the GED of',number1,'and',number2,'is',gcd)\n"
   ]
  },
  {
   "cell_type": "markdown",
   "metadata": {},
   "source": [
    "Question 6.A 4000-year old method to compute the square root of 5 is as follows: Start with an initial guess, say 1. Then compute\n",
    "\n",
    "(1 + 5/1 )/2 = 3\n",
    "\n",
    "Next, take that 3 and replace the 1’s in the previous formula with 3’s . This gives\n",
    "\n",
    "(3 + 5/3 )/2 = 7/3 = 2.33\n",
    "\n",
    "Next replace the 3 in the previous formula with 7/3 . This gives\n",
    "\n",
    "(7/3 + 5/(7/3) )/2 = 47/22 = 2.24\n",
    "\n",
    "If you keep doing this process of computing the formula, getting a result, and plugging it back in, the values will eventually get closer and closer to 5 . This method works for numbers other than 5. Write a program that asks the user for a number and uses this method to estimate the square root of the number correct to within 10^( −10) . The estimate will be correct to within 10^( −10) when the absolute value of the difference between consecutive values is less than 10^(−10) ."
   ]
  },
  {
   "cell_type": "code",
   "execution_count": 5,
   "metadata": {},
   "outputs": [
    {
     "name": "stdout",
     "output_type": "stream",
     "text": [
      "Enter a Number: 6\n",
      "\n",
      "2.45\n"
     ]
    }
   ],
   "source": [
    "number = float(input(\"Enter a Number: \")) \n",
    "i = 1 # initial guess \n",
    "\n",
    "while i >= 0: \n",
    "    j = i\n",
    "    i = (i + number / i) / 2\n",
    "    if j == i: \n",
    "        break \n",
    "\n",
    "print(\"\\n%.2f\"%i)"
   ]
  },
  {
   "cell_type": "markdown",
   "metadata": {},
   "source": [
    "Question 7.Write a program that starts with an 5 × 5 list of zeroes and randomly changes exactly ten of those zeroes to ones."
   ]
  },
  {
   "cell_type": "code",
   "execution_count": 6,
   "metadata": {},
   "outputs": [
    {
     "name": "stdout",
     "output_type": "stream",
     "text": [
      "0 0 0 0 1 \n",
      "0 0 0 1 0 \n",
      "0 0 1 0 1 \n",
      "0 1 0 1 0 \n",
      "1 0 1 0 0 \n"
     ]
    }
   ],
   "source": [
    "import random\n",
    "myList = []\n",
    "randomPosition = []\n",
    "for i in range(25):\n",
    "    myList.append(0)\n",
    "\n",
    "for i in range(10):\n",
    "    x = random.randrange(1, 25)\n",
    "    while randomPosition.count(x) != 0:\n",
    "        x = random.randrange(1, 25)\n",
    "    randomPosition.append(x)\n",
    "    myList[x] = 1\n",
    "k = 0\n",
    "for i in range (5):\n",
    "    for j in range(5):\n",
    "        if i+j == randomPosition[k]:\n",
    "            print(myList[k], end=\" \")\n",
    "            k+=1\n",
    "            continue\n",
    "        print(myList[i+j], end=\" \")\n",
    "    print()\n"
   ]
  },
  {
   "cell_type": "markdown",
   "metadata": {},
   "source": [
    "Question 8.Write a program in which you have a list that contains seven integers that can be 0 or 1. Find the first nonzero entry in the list and change it to a 1. If there are no nonzero entries, print a message saying so."
   ]
  },
  {
   "cell_type": "code",
   "execution_count": 2,
   "metadata": {},
   "outputs": [
    {
     "name": "stdout",
     "output_type": "stream",
     "text": [
      "Enter int contain 0 or 1 0\n",
      "Enter int contain 0 or 1 0\n",
      "Enter int contain 0 or 1 0\n",
      "Enter int contain 0 or 1 1\n",
      "Enter int contain 0 or 1 1\n",
      "Enter int contain 0 or 1 0\n",
      "Enter int contain 0 or 1 0\n",
      "Input List [0, 0, 0, 1, 1, 0, 0]\n",
      "Output List [0, 0, 0, 1, 1, 0, 0]\n"
     ]
    }
   ],
   "source": [
    "my_list=[0]*7 #creating List of seven intigers\n",
    "\n",
    "count=0\n",
    "while count<7:\n",
    "    my_list[count]=input('Enter int contain 0 or 1 ')\n",
    "    my_list[count]=int(my_list[count])\n",
    "    count=count+1\n",
    "print('Input List',my_list)\n",
    "\n",
    "count=0\n",
    "check=0\n",
    "while count<7 and check==0:\n",
    "    if my_list[count]!=0:\n",
    "        my_list[count]=1\n",
    "        check=1    #finding first non zero int\n",
    "    count=count+1\n",
    "\n",
    "if check==1:\n",
    "    print('Output List',my_list)\n",
    "else:\n",
    "    print('No Non Zero int in the List')"
   ]
  },
  {
   "cell_type": "markdown",
   "metadata": {},
   "source": [
    "Question 9.Write a program to play the following simple game. The player starts with  100.𝑂𝑛𝑒𝑎𝑐ℎ𝑡𝑢𝑟𝑛𝑎𝑐𝑜𝑖𝑛𝑖𝑠𝑓𝑙𝑖𝑝𝑝𝑒𝑑𝑎𝑛𝑑𝑡ℎ𝑒𝑝𝑙𝑎𝑦𝑒𝑟ℎ𝑎𝑠𝑡𝑜𝑔𝑢𝑒𝑠𝑠ℎ𝑒𝑎𝑑𝑠𝑜𝑟𝑡𝑎𝑖𝑙𝑠.𝑇ℎ𝑒𝑝𝑙𝑎𝑦𝑒𝑟𝑤𝑖𝑛𝑠 9 for each correct guess and loses  10𝑓𝑜𝑟𝑒𝑎𝑐ℎ𝑖𝑛𝑐𝑜𝑟𝑟𝑒𝑐𝑡𝑔𝑢𝑒𝑠𝑠.𝑇ℎ𝑒𝑔𝑎𝑚𝑒𝑒𝑛𝑑𝑠𝑒𝑖𝑡ℎ𝑒𝑟𝑤ℎ𝑒𝑛𝑡ℎ𝑒𝑝𝑙𝑎𝑦𝑒𝑟𝑟𝑢𝑛𝑠𝑜𝑢𝑡𝑜𝑓𝑚𝑜𝑛𝑒𝑦𝑜𝑟𝑔𝑒𝑡𝑠𝑡𝑜 200."
   ]
  },
  {
   "cell_type": "code",
   "execution_count": 1,
   "metadata": {},
   "outputs": [
    {
     "name": "stdout",
     "output_type": "stream",
     "text": [
      "Starts with $100 and wins when $200\n",
      "write \"h\" for head or \"t\" for tail h\n",
      "Wrong Guess... New Balance 90\n",
      "write \"h\" for head or \"t\" for tail h\n",
      "Wrong Guess... New Balance 80\n",
      "write \"h\" for head or \"t\" for tail t\n",
      "Right Guess!!! New Balance 89\n",
      "write \"h\" for head or \"t\" for tail h\n",
      "Right Guess!!! New Balance 98\n",
      "write \"h\" for head or \"t\" for tail t\n",
      "Right Guess!!! New Balance 107\n",
      "write \"h\" for head or \"t\" for tail t\n",
      "Wrong Guess... New Balance 97\n",
      "write \"h\" for head or \"t\" for tail t\n",
      "Wrong Guess... New Balance 87\n",
      "write \"h\" for head or \"t\" for tail t\n",
      "Wrong Guess... New Balance 77\n",
      "write \"h\" for head or \"t\" for tail t\n",
      "Wrong Guess... New Balance 67\n",
      "write \"h\" for head or \"t\" for tail t\n",
      "Wrong Guess... New Balance 57\n",
      "write \"h\" for head or \"t\" for tail t\n",
      "Right Guess!!! New Balance 66\n",
      "write \"h\" for head or \"t\" for tail h\n",
      "Wrong Guess... New Balance 56\n",
      "write \"h\" for head or \"t\" for tail t\n",
      "Right Guess!!! New Balance 65\n",
      "write \"h\" for head or \"t\" for tail h\n",
      "Wrong Guess... New Balance 55\n",
      "write \"h\" for head or \"t\" for tail h\n",
      "Right Guess!!! New Balance 64\n",
      "write \"h\" for head or \"t\" for tail t\n",
      "Wrong Guess... New Balance 54\n",
      "write \"h\" for head or \"t\" for tail t\n",
      "Right Guess!!! New Balance 63\n",
      "write \"h\" for head or \"t\" for tail h\n",
      "Wrong Guess... New Balance 53\n",
      "write \"h\" for head or \"t\" for tail t\n",
      "Wrong Guess... New Balance 43\n",
      "write \"h\" for head or \"t\" for tail t\n",
      "Wrong Guess... New Balance 33\n",
      "write \"h\" for head or \"t\" for tail h\n",
      "Right Guess!!! New Balance 42\n",
      "write \"h\" for head or \"t\" for tail t\n",
      "Wrong Guess... New Balance 32\n",
      "write \"h\" for head or \"t\" for tail t\n",
      "Wrong Guess... New Balance 22\n",
      "write \"h\" for head or \"t\" for tail t\n",
      "Wrong Guess... New Balance 12\n",
      "write \"h\" for head or \"t\" for tail t\n",
      "Right Guess!!! New Balance 21\n",
      "write \"h\" for head or \"t\" for tail t\n",
      "Wrong Guess... New Balance 11\n",
      "write \"h\" for head or \"t\" for tail t\n",
      "Right Guess!!! New Balance 20\n",
      "write \"h\" for head or \"t\" for tail h\n",
      "Right Guess!!! New Balance 29\n",
      "write \"h\" for head or \"t\" for tail t\n",
      "Wrong Guess... New Balance 19\n",
      "write \"h\" for head or \"t\" for tail h\n",
      "Right Guess!!! New Balance 28\n",
      "write \"h\" for head or \"t\" for tail h\n",
      "Wrong Guess... New Balance 18\n",
      "write \"h\" for head or \"t\" for tail h\n",
      "Right Guess!!! New Balance 27\n",
      "write \"h\" for head or \"t\" for tail h\n",
      "Wrong Guess... New Balance 17\n",
      "write \"h\" for head or \"t\" for tail t\n",
      "Right Guess!!! New Balance 26\n",
      "write \"h\" for head or \"t\" for tail h\n",
      "Right Guess!!! New Balance 35\n",
      "write \"h\" for head or \"t\" for tail h\n",
      "Right Guess!!! New Balance 44\n",
      "write \"h\" for head or \"t\" for tail h\n",
      "Wrong Guess... New Balance 34\n",
      "write \"h\" for head or \"t\" for tail h\n",
      "Right Guess!!! New Balance 43\n",
      "write \"h\" for head or \"t\" for tail h\n",
      "Wrong Guess... New Balance 33\n",
      "write \"h\" for head or \"t\" for tail h\n",
      "Right Guess!!! New Balance 42\n",
      "write \"h\" for head or \"t\" for tail h\n",
      "Right Guess!!! New Balance 51\n",
      "write \"h\" for head or \"t\" for tail t\n",
      "Right Guess!!! New Balance 60\n",
      "write \"h\" for head or \"t\" for tail t\n",
      "Right Guess!!! New Balance 69\n",
      "write \"h\" for head or \"t\" for tail h\n",
      "Wrong Guess... New Balance 59\n",
      "write \"h\" for head or \"t\" for tail h\n",
      "Wrong Guess... New Balance 49\n",
      "write \"h\" for head or \"t\" for tail h\n",
      "Wrong Guess... New Balance 39\n",
      "write \"h\" for head or \"t\" for tail h\n",
      "Right Guess!!! New Balance 48\n",
      "write \"h\" for head or \"t\" for tail t\n",
      "Right Guess!!! New Balance 57\n",
      "write \"h\" for head or \"t\" for tail h\n",
      "Wrong Guess... New Balance 47\n",
      "write \"h\" for head or \"t\" for tail h\n",
      "Right Guess!!! New Balance 56\n",
      "write \"h\" for head or \"t\" for tail h\n",
      "Right Guess!!! New Balance 65\n",
      "write \"h\" for head or \"t\" for tail t\n",
      "Right Guess!!! New Balance 74\n",
      "write \"h\" for head or \"t\" for tail h\n",
      "Wrong Guess... New Balance 64\n",
      "write \"h\" for head or \"t\" for tail h\n",
      "Right Guess!!! New Balance 73\n",
      "write \"h\" for head or \"t\" for tail t\n",
      "Wrong Guess... New Balance 63\n",
      "write \"h\" for head or \"t\" for tail h\n",
      "Right Guess!!! New Balance 72\n",
      "write \"h\" for head or \"t\" for tail t\n",
      "Wrong Guess... New Balance 62\n",
      "write \"h\" for head or \"t\" for tail h\n",
      "Right Guess!!! New Balance 71\n",
      "write \"h\" for head or \"t\" for tail t\n",
      "Wrong Guess... New Balance 61\n",
      "write \"h\" for head or \"t\" for tail hh\n",
      "write \"h\" for head or \"t\" for tail h\n",
      "Wrong Guess... New Balance 51\n",
      "write \"h\" for head or \"t\" for tail h\n",
      "Right Guess!!! New Balance 60\n",
      "write \"h\" for head or \"t\" for tail h\n",
      "Right Guess!!! New Balance 69\n",
      "write \"h\" for head or \"t\" for tail h\n",
      "Wrong Guess... New Balance 59\n",
      "write \"h\" for head or \"t\" for tail h\n",
      "Right Guess!!! New Balance 68\n",
      "write \"h\" for head or \"t\" for tail h\n",
      "Wrong Guess... New Balance 58\n",
      "write \"h\" for head or \"t\" for tail h\n",
      "Wrong Guess... New Balance 48\n",
      "write \"h\" for head or \"t\" for tail h\n",
      "Right Guess!!! New Balance 57\n",
      "write \"h\" for head or \"t\" for tail h\n",
      "Right Guess!!! New Balance 66\n",
      "write \"h\" for head or \"t\" for tail h\n",
      "Wrong Guess... New Balance 56\n",
      "write \"h\" for head or \"t\" for tail h\n",
      "Wrong Guess... New Balance 46\n",
      "write \"h\" for head or \"t\" for tail h\n",
      "Right Guess!!! New Balance 55\n",
      "write \"h\" for head or \"t\" for tail h\n",
      "Wrong Guess... New Balance 45\n",
      "write \"h\" for head or \"t\" for tail h\n",
      "Wrong Guess... New Balance 35\n",
      "write \"h\" for head or \"t\" for tail h\n",
      "Right Guess!!! New Balance 44\n",
      "write \"h\" for head or \"t\" for tail h\n",
      "Right Guess!!! New Balance 53\n",
      "write \"h\" for head or \"t\" for tail h\n",
      "Right Guess!!! New Balance 62\n",
      "write \"h\" for head or \"t\" for tail h\n",
      "Wrong Guess... New Balance 52\n",
      "write \"h\" for head or \"t\" for tail h\n",
      "Right Guess!!! New Balance 61\n",
      "write \"h\" for head or \"t\" for tail h\n",
      "Right Guess!!! New Balance 70\n",
      "write \"h\" for head or \"t\" for tail h\n",
      "Wrong Guess... New Balance 60\n",
      "write \"h\" for head or \"t\" for tail h\n",
      "Wrong Guess... New Balance 50\n",
      "write \"h\" for head or \"t\" for tail h\n",
      "Wrong Guess... New Balance 40\n",
      "write \"h\" for head or \"t\" for tail h\n",
      "Right Guess!!! New Balance 49\n",
      "write \"h\" for head or \"t\" for tail h\n",
      "Wrong Guess... New Balance 39\n",
      "write \"h\" for head or \"t\" for tail h\n",
      "Wrong Guess... New Balance 29\n",
      "write \"h\" for head or \"t\" for tail h\n",
      "Right Guess!!! New Balance 38\n",
      "write \"h\" for head or \"t\" for tail h\n",
      "Wrong Guess... New Balance 28\n",
      "write \"h\" for head or \"t\" for tail h\n",
      "Wrong Guess... New Balance 18\n",
      "write \"h\" for head or \"t\" for tail h\n",
      "Wrong Guess... New Balance 8\n",
      "write \"h\" for head or \"t\" for tail h\n",
      "Right Guess!!! New Balance 17\n",
      "write \"h\" for head or \"t\" for tail h\n",
      "Right Guess!!! New Balance 26\n",
      "write \"h\" for head or \"t\" for tail h\n",
      "Wrong Guess... New Balance 16\n",
      "write \"h\" for head or \"t\" for tail h\n",
      "Right Guess!!! New Balance 25\n",
      "write \"h\" for head or \"t\" for tail h\n",
      "Wrong Guess... New Balance 15\n",
      "write \"h\" for head or \"t\" for tail h\n",
      "Wrong Guess... New Balance 5\n",
      "write \"h\" for head or \"t\" for tail h\n",
      "Wrong Guess... New Balance -5\n",
      "Better Luck Next time...\n"
     ]
    }
   ],
   "source": [
    "balance=100 \n",
    "\n",
    "def Guess(ans,my_balance):\n",
    "    import random\n",
    "    z=random.randint(0,1)\n",
    "    if ans==z:\n",
    "        my_balance=my_balance+9\n",
    "        print('Right Guess!!! New Balance',my_balance)\n",
    "    else:\n",
    "        my_balance=my_balance-10\n",
    "        print('Wrong Guess... New Balance',my_balance)\n",
    "    return my_balance\n",
    "\n",
    "print('Starts with $100 and wins when $200')\n",
    "while balance>0 and balance<200:\n",
    "    s=input('write \"h\" for head or \"t\" for tail ')\n",
    "    if s=='h':\n",
    "        check=Guess(0,balance)  \n",
    "    elif s=='t':\n",
    "        check=Guess(1,balance) \n",
    "    balance=check\n",
    "\n",
    "if balance>=200:          \n",
    "    print('Congrats!!!')\n",
    "else:\n",
    "    print('Better Luck Next time...')"
   ]
  },
  {
   "cell_type": "markdown",
   "metadata": {},
   "source": [
    "Question 10.Randomly generate a 6 × 6 list that has exactly 12 ones placed in random locations in the list. The rest of the entries should be zeroes."
   ]
  },
  {
   "cell_type": "code",
   "execution_count": 9,
   "metadata": {},
   "outputs": [
    {
     "name": "stdout",
     "output_type": "stream",
     "text": [
      "0 0 0 0 1 0 \n",
      "0 0 0 1 0 0 \n",
      "1 1 0 0 1 0 \n",
      "1 1 0 0 0 0 \n",
      "0 0 0 1 0 0 \n",
      "1 1 0 0 1 1 \n"
     ]
    }
   ],
   "source": [
    "import random\n",
    "positions = []\n",
    "\n",
    "for x in range(12):\n",
    "    randomNumber = random.randrange(36)\n",
    "    while positions.count(randomNumber) != 0:\n",
    "        randomNumber = random.randrange(36)\n",
    "    positions.append(randomNumber)\n",
    "    positions.sort()\n",
    "\n",
    "k = 0\n",
    "j = -1\n",
    "for x in range(6):\n",
    "    for y in range(6):\n",
    "        j+=1\n",
    "        if j == positions[k]:\n",
    "            print(\"1\", end=\" \")\n",
    "            k+=1\n",
    "            continue\n",
    "        print(\"0\", end=\" \")\n",
    "    print()\n"
   ]
  },
  {
   "cell_type": "markdown",
   "metadata": {},
   "source": [
    "Question 11.Randomly generate a 9 × 9 list where the entries are integers between 1 and 9 with no repeat entries in any row or in any column."
   ]
  },
  {
   "cell_type": "code",
   "execution_count": 10,
   "metadata": {},
   "outputs": [
    {
     "name": "stdout",
     "output_type": "stream",
     "text": [
      "8 2 1 6 4 3 9 7 5 \n",
      "6 4 3 1 9 7 2 8 5 \n",
      "9 1 7 8 2 4 5 3 6 \n",
      "6 7 2 8 1 9 3 4 5 \n",
      "5 7 4 6 3 2 9 1 8 \n",
      "1 6 7 9 3 8 5 2 4 \n",
      "7 3 4 8 6 5 9 2 1 \n",
      "8 1 5 4 6 2 3 7 9 \n",
      "4 2 1 8 5 7 9 3 6 \n"
     ]
    }
   ],
   "source": [
    "import random\n",
    "positions = []\n",
    "for x in range(9):\n",
    "    for y in range(9):\n",
    "        f = random.randrange(9)+1\n",
    "        while positions.count(f)!=0:\n",
    "            f = random.randrange(9)+1\n",
    "        positions.append(f)\n",
    "        print(f, end=\" \")\n",
    "    positions.clear()\n",
    "    print()\n"
   ]
  }
 ],
 "metadata": {
  "kernelspec": {
   "display_name": "Python 3",
   "language": "python",
   "name": "python3"
  },
  "language_info": {
   "codemirror_mode": {
    "name": "ipython",
    "version": 3
   },
   "file_extension": ".py",
   "mimetype": "text/x-python",
   "name": "python",
   "nbconvert_exporter": "python",
   "pygments_lexer": "ipython3",
   "version": "3.7.1"
  }
 },
 "nbformat": 4,
 "nbformat_minor": 2
}
